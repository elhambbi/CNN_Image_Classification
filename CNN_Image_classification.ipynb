{
 "cells": [
  {
   "cell_type": "markdown",
   "id": "35e1cbbf",
   "metadata": {},
   "source": [
    "### FashionMNIST dataset - Image classification using CNN"
   ]
  },
  {
   "cell_type": "code",
   "execution_count": 2,
   "id": "95be2351",
   "metadata": {},
   "outputs": [
    {
     "name": "stderr",
     "output_type": "stream",
     "text": [
      "Matplotlib is building the font cache; this may take a moment.\n"
     ]
    },
    {
     "name": "stdout",
     "output_type": "stream",
     "text": [
      "2.2.2\n",
      "0.17.2\n"
     ]
    }
   ],
   "source": [
    "import torch\n",
    "from torch import nn\n",
    "import torchvision\n",
    "from torchvision import datasets   #to impot FashionMNist images\n",
    "from torchvision import transforms\n",
    "from torchvision.transforms import ToTensor\n",
    "from torch.utils.data import DataLoader\n",
    "import matplotlib.pyplot as plt\n",
    "from tqdm.auto import tqdm   # for progress bar\n",
    "from timeit import default_timer as timer \n",
    "import random\n",
    "\n",
    "print(torch.__version__)\n",
    "print(torchvision.__version__)"
   ]
  },
  {
   "cell_type": "markdown",
   "id": "fa0113d5",
   "metadata": {},
   "source": [
    "FashionMNIST from torchvision.datasets\n",
    "\n",
    "https://pytorch.org/vision/stable/generated/torchvision.datasets.FashionMNIST.html#torchvision.datasets.FashionMNIST"
   ]
  },
  {
   "cell_type": "code",
   "execution_count": 3,
   "id": "d4fcb478",
   "metadata": {},
   "outputs": [
    {
     "name": "stdout",
     "output_type": "stream",
     "text": [
      "Downloading http://fashion-mnist.s3-website.eu-central-1.amazonaws.com/train-images-idx3-ubyte.gz\n",
      "Downloading http://fashion-mnist.s3-website.eu-central-1.amazonaws.com/train-images-idx3-ubyte.gz to data/FashionMNIST/raw/train-images-idx3-ubyte.gz\n"
     ]
    },
    {
     "name": "stderr",
     "output_type": "stream",
     "text": [
      "100.0%\n"
     ]
    },
    {
     "name": "stdout",
     "output_type": "stream",
     "text": [
      "Extracting data/FashionMNIST/raw/train-images-idx3-ubyte.gz to data/FashionMNIST/raw\n"
     ]
    },
    {
     "name": "stderr",
     "output_type": "stream",
     "text": [
      "100.0%"
     ]
    },
    {
     "name": "stdout",
     "output_type": "stream",
     "text": [
      "\n",
      "Downloading http://fashion-mnist.s3-website.eu-central-1.amazonaws.com/train-labels-idx1-ubyte.gz\n",
      "Downloading http://fashion-mnist.s3-website.eu-central-1.amazonaws.com/train-labels-idx1-ubyte.gz to data/FashionMNIST/raw/train-labels-idx1-ubyte.gz\n",
      "Extracting data/FashionMNIST/raw/train-labels-idx1-ubyte.gz to data/FashionMNIST/raw\n",
      "\n",
      "Downloading http://fashion-mnist.s3-website.eu-central-1.amazonaws.com/t10k-images-idx3-ubyte.gz\n"
     ]
    },
    {
     "name": "stderr",
     "output_type": "stream",
     "text": [
      "\n",
      "8.9%"
     ]
    },
    {
     "name": "stdout",
     "output_type": "stream",
     "text": [
      "Downloading http://fashion-mnist.s3-website.eu-central-1.amazonaws.com/t10k-images-idx3-ubyte.gz to data/FashionMNIST/raw/t10k-images-idx3-ubyte.gz\n"
     ]
    },
    {
     "name": "stderr",
     "output_type": "stream",
     "text": [
      "100.0%\n"
     ]
    },
    {
     "name": "stdout",
     "output_type": "stream",
     "text": [
      "Extracting data/FashionMNIST/raw/t10k-images-idx3-ubyte.gz to data/FashionMNIST/raw\n",
      "\n",
      "Downloading http://fashion-mnist.s3-website.eu-central-1.amazonaws.com/t10k-labels-idx1-ubyte.gz\n",
      "Downloading http://fashion-mnist.s3-website.eu-central-1.amazonaws.com/t10k-labels-idx1-ubyte.gz to data/FashionMNIST/raw/t10k-labels-idx1-ubyte.gz\n"
     ]
    },
    {
     "name": "stderr",
     "output_type": "stream",
     "text": [
      "100.0%"
     ]
    },
    {
     "name": "stdout",
     "output_type": "stream",
     "text": [
      "Extracting data/FashionMNIST/raw/t10k-labels-idx1-ubyte.gz to data/FashionMNIST/raw\n",
      "\n"
     ]
    },
    {
     "name": "stderr",
     "output_type": "stream",
     "text": [
      "\n"
     ]
    }
   ],
   "source": [
    "train_data = datasets.FashionMNIST(\n",
    "    root=\"data\", # where to download data to?\n",
    "    train=True, # do we want the training dataset?\n",
    "    download=True, # do we want to download yes/no?\n",
    "    transform=ToTensor(), # how do we want to transform the data?\n",
    "    target_transform=None #transform the labels/targets?\n",
    ")\n",
    "\n",
    "test_data = datasets.FashionMNIST(\n",
    "    root=\"data\",\n",
    "    train=False,\n",
    "    download=True,\n",
    "    transform=ToTensor(),\n",
    "    target_transform=None\n",
    ")"
   ]
  },
  {
   "cell_type": "code",
   "execution_count": 4,
   "id": "e716e00f",
   "metadata": {},
   "outputs": [
    {
     "data": {
      "text/plain": [
       "(60000, 10000)"
      ]
     },
     "execution_count": 4,
     "metadata": {},
     "output_type": "execute_result"
    }
   ],
   "source": [
    "len(train_data), len(test_data)"
   ]
  },
  {
   "cell_type": "code",
   "execution_count": 7,
   "id": "52c69286",
   "metadata": {},
   "outputs": [
    {
     "data": {
      "text/plain": [
       "(torch.Size([1, 28, 28]), 9)"
      ]
     },
     "execution_count": 7,
     "metadata": {},
     "output_type": "execute_result"
    }
   ],
   "source": [
    "#a sample image (the first one)\n",
    "image, label = train_data[0]\n",
    "image.shape, label\n"
   ]
  },
  {
   "cell_type": "code",
   "execution_count": 11,
   "id": "6c586539",
   "metadata": {},
   "outputs": [
    {
     "data": {
      "text/plain": [
       "['T-shirt/top',\n",
       " 'Trouser',\n",
       " 'Pullover',\n",
       " 'Dress',\n",
       " 'Coat',\n",
       " 'Sandal',\n",
       " 'Shirt',\n",
       " 'Sneaker',\n",
       " 'Bag',\n",
       " 'Ankle boot']"
      ]
     },
     "execution_count": 11,
     "metadata": {},
     "output_type": "execute_result"
    }
   ],
   "source": [
    "class_names = train_data.classes\n",
    "class_names"
   ]
  },
  {
   "cell_type": "code",
   "execution_count": 9,
   "id": "8bd4da06",
   "metadata": {},
   "outputs": [
    {
     "data": {
      "text/plain": [
       "{'T-shirt/top': 0,\n",
       " 'Trouser': 1,\n",
       " 'Pullover': 2,\n",
       " 'Dress': 3,\n",
       " 'Coat': 4,\n",
       " 'Sandal': 5,\n",
       " 'Shirt': 6,\n",
       " 'Sneaker': 7,\n",
       " 'Bag': 8,\n",
       " 'Ankle boot': 9}"
      ]
     },
     "execution_count": 9,
     "metadata": {},
     "output_type": "execute_result"
    }
   ],
   "source": [
    "class_to_idx = train_data.class_to_idx\n",
    "class_to_idx"
   ]
  },
  {
   "cell_type": "code",
   "execution_count": 10,
   "id": "68e26b2b",
   "metadata": {},
   "outputs": [
    {
     "data": {
      "text/plain": [
       "tensor([9, 0, 0,  ..., 3, 0, 5])"
      ]
     },
     "execution_count": 10,
     "metadata": {},
     "output_type": "execute_result"
    }
   ],
   "source": [
    "train_data.targets  #labels"
   ]
  },
  {
   "cell_type": "markdown",
   "id": "1be88e8d",
   "metadata": {},
   "source": [
    "The 3 values in image shape are `color_channels, height, width` in order.\n",
    "\n",
    "In this dataset color_channel= 1 because images are grayscale. It would be 3 for colored images."
   ]
  },
  {
   "cell_type": "code",
   "execution_count": 13,
   "id": "fa3c862b",
   "metadata": {},
   "outputs": [
    {
     "name": "stdout",
     "output_type": "stream",
     "text": [
      "Image shape: torch.Size([1, 28, 28])\n",
      "Image label: Ankle boot\n"
     ]
    }
   ],
   "source": [
    "#the shape of the first image\n",
    "print(f\"Image shape: {image.shape}\")      #color_channels (RGB), height, width\n",
    "print(f\"Image label: {class_names[label]}\")"
   ]
  },
  {
   "cell_type": "markdown",
   "id": "52fbfef5",
   "metadata": {},
   "source": [
    "We need to squeez the image shape to plot it in 2D."
   ]
  },
  {
   "cell_type": "code",
   "execution_count": 14,
   "id": "b45466e9",
   "metadata": {},
   "outputs": [
    {
     "name": "stdout",
     "output_type": "stream",
     "text": [
      "image shape: torch.Size([1, 28, 28])\n",
      "squeezed image shape: torch.Size([28, 28])\n"
     ]
    },
    {
     "data": {
      "text/plain": [
       "Text(0.5, 1.0, '9')"
      ]
     },
     "execution_count": 14,
     "metadata": {},
     "output_type": "execute_result"
    },
    {
     "data": {
      "image/png": "[encoded data removed]",
      "text/plain": [
       "<Figure size 640x480 with 1 Axes>"
      ]
     },
     "metadata": {},
     "output_type": "display_data"
    }
   ],
   "source": [
    "image, label = train_data[0]\n",
    "print(f\"image shape: {image.shape}\")\n",
    "print(f\"squeezed image shape: {image.squeeze().shape}\")   # Removes dimensions with size 1\n",
    "plt.imshow(image.squeeze())\n",
    "plt.title(label)"
   ]
  },
  {
   "cell_type": "code",
   "execution_count": 16,
   "id": "e97f535a",
   "metadata": {},
   "outputs": [
    {
     "data": {
      "text/plain": [
       "(-0.5, 27.5, 27.5, -0.5)"
      ]
     },
     "execution_count": 16,
     "metadata": {},
     "output_type": "execute_result"
    },
    {
     "data": {
      "image/png": "[encoded data removed]",
      "text/plain": [
       "<Figure size 640x480 with 1 Axes>"
      ]
     },
     "metadata": {},
     "output_type": "display_data"
    }
   ],
   "source": [
    "#change the setting of cmap in plt.imshow for gray images\n",
    "plt.imshow(image.squeeze(), cmap=\"gray\")\n",
    "plt.title(class_names[label])\n",
    "plt.axis(False)"
   ]
  },
  {
   "cell_type": "code",
   "execution_count": 25,
   "id": "a86e0b36",
   "metadata": {},
   "outputs": [
    {
     "name": "stdout",
     "output_type": "stream",
     "text": [
      "tensor([44515,  6845, 46218, 30799])\n",
      "28423\n"
     ]
    }
   ],
   "source": [
    "print(torch.randint(0, len(train_data), size=[4]))     #tensor\n",
    "print(torch.randint(0, len(train_data), size=[1]).item())  #value"
   ]
  },
  {
   "cell_type": "code",
   "execution_count": 26,
   "id": "8ce06312",
   "metadata": {},
   "outputs": [
    {
     "data": {
      "image/png": "[encoded data removed]",
      "text/plain": [
       "<Figure size 900x900 with 16 Axes>"
      ]
     },
     "metadata": {},
     "output_type": "display_data"
    }
   ],
   "source": [
    "# torch.manual_seed(42)\n",
    "fig = plt.figure(figsize=(9, 9))\n",
    "rows, cols = 4, 4\n",
    "for i in range(1, rows*cols+1):\n",
    "    random_idx = torch.randint(0, len(train_data), size=[1]).item()  \n",
    "    img, label = train_data[random_idx]\n",
    "    fig.add_subplot(rows, cols, i)\n",
    "    plt.imshow(img.squeeze(), cmap=\"gray\")\n",
    "    plt.title(class_names[label])\n",
    "    plt.axis(False)"
   ]
  },
  {
   "cell_type": "code",
   "execution_count": 27,
   "id": "3f57ec34",
   "metadata": {},
   "outputs": [
    {
     "data": {
      "text/plain": [
       "(Dataset FashionMNIST\n",
       "     Number of datapoints: 60000\n",
       "     Root location: data\n",
       "     Split: Train\n",
       "     StandardTransform\n",
       " Transform: ToTensor(),\n",
       " Dataset FashionMNIST\n",
       "     Number of datapoints: 10000\n",
       "     Root location: data\n",
       "     Split: Test\n",
       "     StandardTransform\n",
       " Transform: ToTensor())"
      ]
     },
     "execution_count": 27,
     "metadata": {},
     "output_type": "execute_result"
    }
   ],
   "source": [
    "train_data, test_data"
   ]
  },
  {
   "cell_type": "code",
   "execution_count": 28,
   "id": "675881a2",
   "metadata": {},
   "outputs": [
    {
     "data": {
      "text/plain": [
       "(<torch.utils.data.dataloader.DataLoader at 0x7fa9f9663100>,\n",
       " <torch.utils.data.dataloader.DataLoader at 0x7fa9f9663190>)"
      ]
     },
     "execution_count": 28,
     "metadata": {},
     "output_type": "execute_result"
    }
   ],
   "source": [
    "# create Dataloader\n",
    "\n",
    "BATCH_SIZE = 32\n",
    "# turns our dataset which is in the form of PyTorch Datasets into a Python iterable (batches)\n",
    "train_dataloader = DataLoader(dataset= train_data,\n",
    "                              batch_size= BATCH_SIZE,\n",
    "                              shuffle= True)\n",
    "\n",
    "test_dataloader = DataLoader(dataset= test_data,\n",
    "                             batch_size= BATCH_SIZE,\n",
    "                             shuffle= False)\n",
    "\n",
    "train_dataloader, test_dataloader"
   ]
  },
  {
   "cell_type": "code",
   "execution_count": 29,
   "id": "8a5467af",
   "metadata": {},
   "outputs": [
    {
     "name": "stdout",
     "output_type": "stream",
     "text": [
      "DataLoaders: (<torch.utils.data.dataloader.DataLoader object at 0x7fa9f9663100>, <torch.utils.data.dataloader.DataLoader object at 0x7fa9f9663190>)\n",
      "Length of train_dataloader: 1875 batches of 32\n",
      "Length of test_dataloader: 313 batches of 32\n"
     ]
    }
   ],
   "source": [
    "#the length of dataloaders\n",
    "print(f\"DataLoaders: {train_dataloader, test_dataloader}\")\n",
    "print(f\"Length of train_dataloader: {len(train_dataloader)} batches of {BATCH_SIZE}\")\n",
    "print(f\"Length of test_dataloader: {len(test_dataloader)} batches of {BATCH_SIZE}\")"
   ]
  },
  {
   "cell_type": "code",
   "execution_count": 31,
   "id": "b4dc2840",
   "metadata": {
    "scrolled": false
   },
   "outputs": [
    {
     "data": {
      "text/plain": [
       "(torch.Size([32, 1, 28, 28]), torch.Size([32]))"
      ]
     },
     "execution_count": 31,
     "metadata": {},
     "output_type": "execute_result"
    }
   ],
   "source": [
    "# what's inside the training dataloader\n",
    "train_features_batch, train_labels_batch = next(iter(train_dataloader))   # next gets the next item from an iterable\n",
    "train_features_batch.shape, train_labels_batch.shape                      # iter turns the object to iterable"
   ]
  },
  {
   "cell_type": "code",
   "execution_count": 34,
   "id": "5415acba",
   "metadata": {},
   "outputs": [
    {
     "name": "stdout",
     "output_type": "stream",
     "text": [
      "image shape: torch.Size([1, 28, 28])\n",
      "squeezed image shape: torch.Size([28, 28])\n",
      "label: 2\n"
     ]
    },
    {
     "data": {
      "image/png": "[encoded data removed]",
      "text/plain": [
       "<Figure size 640x480 with 1 Axes>"
      ]
     },
     "metadata": {},
     "output_type": "display_data"
    }
   ],
   "source": [
    "# an image from training batches\n",
    "torch.manual_seed(42)\n",
    "random_idx = torch.randint(0, len(train_features_batch), size=[1]).item()\n",
    "img, label = train_features_batch[random_idx], train_labels_batch[random_idx]\n",
    "plt.imshow(img.squeeze(), cmap=\"gray\")\n",
    "plt.title(class_names[label])\n",
    "plt.axis(False)\n",
    "print(f\"image shape: {img.shape}\")\n",
    "print(f\"squeezed image shape: {img.squeeze().shape}\")\n",
    "print(f\"label: {label}\")"
   ]
  },
  {
   "cell_type": "code",
   "execution_count": 35,
   "id": "3c2e78c4",
   "metadata": {},
   "outputs": [
    {
     "data": {
      "text/plain": [
       "'cpu'"
      ]
     },
     "execution_count": 35,
     "metadata": {},
     "output_type": "execute_result"
    }
   ],
   "source": [
    "# cpu or gpu\n",
    "device = \"cuda\" if torch.cuda.is_available() else \"cpu\"\n",
    "device"
   ]
  },
  {
   "cell_type": "markdown",
   "id": "55c936a3",
   "metadata": {},
   "source": [
    "\n",
    "The CNN model is TinyVGG architecture from the https://poloclub.github.io/cnn-explainer/.\n",
    "\n",
    "For 2d images nn.Conv2d() (there are 1d (for text) and 3d as well): https://pytorch.org/docs/stable/generated/torch.nn.Conv2d.html\n",
    "\n",
    "\n",
    "\n",
    "Input layer -> [Convolutional layer -> activation layer -> pooling layer] -> Output layer\n",
    "\n",
    "Where the contents of [Convolutional layer -> activation layer -> pooling layer] can be upscaled and repeated multiple times, depending on requirements.\n"
   ]
  },
  {
   "cell_type": "code",
   "execution_count": 36,
   "id": "e7cec4d5",
   "metadata": {},
   "outputs": [],
   "source": [
    "# CNN\n",
    "class cnnmodel1(nn.Module):\n",
    "    def __init__(self, input_shape: int, hidden_units: int, output_shape: int):\n",
    "        super().__init__()         #inherit from nn.Module\n",
    "        self.conv_block_1 = nn.Sequential(          \n",
    "        nn.Conv2d(in_channels=input_shape,       #input layer\n",
    "                  out_channels=hidden_units,\n",
    "                  kernel_size=3,\n",
    "                  stride=1,\n",
    "                  padding=1),\n",
    "        nn.ReLU(),                                #activation layer                       \n",
    "        nn.Conv2d(in_channels=hidden_units,       #convolutional layer\n",
    "                  out_channels=hidden_units,\n",
    "                  kernel_size=3,\n",
    "                  stride=1,\n",
    "                  padding=1),\n",
    "        nn.ReLU(),                                #activation layer   \n",
    "        nn.MaxPool2d(kernel_size=2)               #pooling layer\n",
    "        )\n",
    "        self.conv_block_2 = nn.Sequential(            #convolutional layer\n",
    "        nn.Conv2d(in_channels=hidden_units,\n",
    "                  out_channels=hidden_units,\n",
    "                  kernel_size=3,\n",
    "                  stride=1,\n",
    "                  padding=1),\n",
    "        nn.ReLU(),                               #activation layer  \n",
    "        nn.Conv2d(in_channels=hidden_units,      #convolutional layer\n",
    "                  out_channels=hidden_units,\n",
    "                  kernel_size=3,\n",
    "                  stride=1,\n",
    "                  padding=1),\n",
    "        nn.ReLU(),                               #activation layer  \n",
    "        nn.MaxPool2d(kernel_size=2)              #pooling layer\n",
    "       )\n",
    "        self.classifier = nn.Sequential(         #output layer\n",
    "        nn.Flatten(),                               #flatten the output of the two blocks into a single feature vector\n",
    "        nn.Linear(in_features=hidden_units*7*7,     # 10*7*7 is the output shape from conv_block2\n",
    "                  out_features=output_shape)\n",
    "        )\n",
    "    \n",
    "    def forward(self, x):\n",
    "        x = self.conv_block_1(x)\n",
    "        #print(f\"Output shape of conv_block_1: {x.shape}\")\n",
    "        x = self.conv_block_2(x) \n",
    "        #print(f\"Output shape of conv_block_2: {x.shape}\")\n",
    "        x = self.classifier(x)\n",
    "        #print(f\"Output shape of classifier: {x.shape}\")\n",
    "        return x"
   ]
  },
  {
   "cell_type": "markdown",
   "id": "dbdc8db1",
   "metadata": {},
   "source": [
    "The in_features of classifier layer = 10 * 7 * 7. \n",
    "\n",
    "10,7,7 is the ouput shape of conv_block2 and the flattened version (multiplication) is the input of classifier layer, this is needed for matrix multiplication in classification layer.\n",
    "\n",
    "The shape of all sample images is 1,28,28.\n",
    "\n",
    "The layers of the network compress the shape and extract info from images.\n",
    "\n",
    "If we run the model with an image of size 1,28,28 we will see this"
   ]
  },
  {
   "cell_type": "code",
   "execution_count": 37,
   "id": "7fc74136",
   "metadata": {},
   "outputs": [],
   "source": [
    "#creating the model with 10 neurons for hidden layers\n",
    "torch.manual_seed(42)\n",
    "model1 = cnnmodel1(input_shape=1,       #if the images were colored, input_shape=3 for RGB\n",
    "                   hidden_units=10, \n",
    "                   output_shape=len(class_names)).to(device)"
   ]
  },
  {
   "cell_type": "code",
   "execution_count": 38,
   "id": "c2f9d276",
   "metadata": {},
   "outputs": [
    {
     "name": "stdout",
     "output_type": "stream",
     "text": [
      "torch.Size([1, 28, 28])\n"
     ]
    },
    {
     "name": "stderr",
     "output_type": "stream",
     "text": [
      "[W NNPACK.cpp:64] Could not initialize NNPACK! Reason: Unsupported hardware.\n"
     ]
    },
    {
     "data": {
      "text/plain": [
       "tensor([[ 0.0366, -0.0940,  0.0686, -0.0485,  0.0068,  0.0290,  0.0132,  0.0084,\n",
       "         -0.0030, -0.0185]], grad_fn=<AddmmBackward0>)"
      ]
     },
     "execution_count": 38,
     "metadata": {},
     "output_type": "execute_result"
    }
   ],
   "source": [
    "rand_image_tensor = torch.randn(size=(1, 28, 28))\n",
    "print(rand_image_tensor.shape)\n",
    "\n",
    "# Pass image through model\n",
    "model1(rand_image_tensor.unsqueeze(0).to(device))   #unsqueeze to add a dim for batch size"
   ]
  },
  {
   "cell_type": "code",
   "execution_count": 113,
   "id": "34afe08e",
   "metadata": {},
   "outputs": [],
   "source": [
    "#model1.state_dict()   #adjusted weights and biases of model"
   ]
  },
  {
   "cell_type": "code",
   "execution_count": 39,
   "id": "a9578984",
   "metadata": {},
   "outputs": [],
   "source": [
    "# loss function, evaluation metric and optimizer\n",
    "\n",
    "# Calculate accuracy (a classification metric)\n",
    "def accuracy_fn(y_true, y_pred):\n",
    "    correct = torch.eq(y_true, y_pred).sum().item()\n",
    "    acc = (correct / len(y_pred)) * 100\n",
    "    return acc\n",
    "\n",
    "\n",
    "loss_fn = nn.CrossEntropyLoss()   # multiclass classification\n",
    "optimizer = torch.optim.SGD(params=model1.parameters(),lr=0.1)"
   ]
  },
  {
   "cell_type": "code",
   "execution_count": 40,
   "id": "7a92d494",
   "metadata": {},
   "outputs": [],
   "source": [
    "def train_step(model: torch.nn.Module,\n",
    "               data_loader: torch.utils.data.DataLoader,\n",
    "               loss_fn: torch.nn.Module,\n",
    "               optimizer: torch.optim.Optimizer,\n",
    "               accuracy_fn,\n",
    "               device: torch.device = device):\n",
    "    \n",
    "    train_loss, train_acc = 0, 0\n",
    "\n",
    "    # Put model into training mode\n",
    "    model.train()\n",
    "\n",
    "    # Add a loop to loop through the training batches\n",
    "    for batch, (X, y) in enumerate(data_loader):\n",
    "        # Put data on target device \n",
    "        X, y = X.to(device), y.to(device)\n",
    "\n",
    "        # 1. Forward pass (outputs the raw logits from the model)\n",
    "        y_pred = model(X)\n",
    "\n",
    "        # 2. Calculate loss and accuracy (per batch)\n",
    "        loss = loss_fn(y_pred, y)\n",
    "        train_loss += loss # accumulate train loss\n",
    "        train_acc += accuracy_fn(y_true=y,\n",
    "                                 y_pred=torch.softmax(y_pred.squeeze(), dim=1).argmax(dim=1)) # go from logits -> prediction labels\n",
    "\n",
    "        # 3. Optimizer zero grad. Sets the gradients of all optimized torch.Tensors to zero.\n",
    "        optimizer.zero_grad()\n",
    "\n",
    "        # 4. Loss backward\n",
    "        loss.backward()\n",
    "\n",
    "        # 5. Optimizer step (update the model's parameters once per batch)\n",
    "        optimizer.step()\n",
    "\n",
    "    # Divide total train loss and acc by length of train dataloader (getting the average for all batches)\n",
    "    train_loss /= len(data_loader)\n",
    "    train_acc /= len(data_loader)\n",
    "    print(f\"Train loss: {train_loss:.5f} | Train acc: {train_acc:.2f}%\")"
   ]
  },
  {
   "cell_type": "code",
   "execution_count": 41,
   "id": "60525656",
   "metadata": {},
   "outputs": [],
   "source": [
    "def test_step(model: torch.nn.Module,\n",
    "              data_loader: torch.utils.data.DataLoader, \n",
    "              loss_fn: torch.nn.Module,\n",
    "              accuracy_fn,\n",
    "              device: torch.device = device):\n",
    "    \n",
    "    test_loss, test_acc = 0, 0\n",
    "  \n",
    "    # Put the model in eval mode\n",
    "    model.eval()\n",
    "\n",
    "    # Turn on inference mode context manager\n",
    "    with torch.inference_mode():\n",
    "        for X, y in data_loader:\n",
    "            X, y = X.to(device), y.to(device)\n",
    "\n",
    "            # 1. Forward pass (outputs raw logits)\n",
    "            test_pred = model(X)\n",
    "           \n",
    "            # 2. Calculuate the loss/acc\n",
    "            test_loss += loss_fn(test_pred, y)\n",
    "            test_acc += accuracy_fn(y_true=y,\n",
    "                                  y_pred=torch.softmax(test_pred.squeeze(), dim=1).argmax(dim=1)) # go from logits -> prediction labels \n",
    "            \n",
    "        test_loss /= len(data_loader)\n",
    "        test_acc /= len(data_loader)\n",
    "        print(f\"Test loss: {test_loss:.5f} | Test acc: {test_acc:.2f}%\\n\")"
   ]
  },
  {
   "cell_type": "code",
   "execution_count": 42,
   "id": "09cd29a2",
   "metadata": {},
   "outputs": [
    {
     "name": "stdout",
     "output_type": "stream",
     "text": [
      "cpu\n"
     ]
    }
   ],
   "source": [
    "print(device)"
   ]
  },
  {
   "cell_type": "code",
   "execution_count": 43,
   "id": "27b1e908",
   "metadata": {},
   "outputs": [],
   "source": [
    "# a function to calculate training time\n",
    "\n",
    "def print_train_time(start: float, end: float, device: torch.device = None):\n",
    "    total_time = end - start\n",
    "    print(f\"Train time on {device}: {total_time:.3f} seconds\")"
   ]
  },
  {
   "cell_type": "code",
   "execution_count": 45,
   "id": "f30fb023",
   "metadata": {},
   "outputs": [
    {
     "name": "stderr",
     "output_type": "stream",
     "text": [
      "/Users/elhambabaei/opt/anaconda3/envs/elienv/lib/python3.9/site-packages/tqdm/auto.py:21: TqdmWarning: IProgress not found. Please update jupyter and ipywidgets. See https://ipywidgets.readthedocs.io/en/stable/user_install.html\n",
      "  from .autonotebook import tqdm as notebook_tqdm\n",
      "  0%|          | 0/5 [00:00<?, ?it/s]"
     ]
    },
    {
     "name": "stdout",
     "output_type": "stream",
     "text": [
      "Epoch: 0\n",
      "\n",
      "Train loss: 0.59856 | Train acc: 78.36%\n"
     ]
    },
    {
     "name": "stderr",
     "output_type": "stream",
     "text": [
      " 20%|██        | 1/5 [00:40<02:43, 40.79s/it]"
     ]
    },
    {
     "name": "stdout",
     "output_type": "stream",
     "text": [
      "Test loss: 0.38782 | Test acc: 86.14%\n",
      "\n",
      "Epoch: 1\n",
      "\n",
      "Train loss: 0.35811 | Train acc: 87.14%\n"
     ]
    },
    {
     "name": "stderr",
     "output_type": "stream",
     "text": [
      " 40%|████      | 2/5 [01:23<02:04, 41.63s/it]"
     ]
    },
    {
     "name": "stdout",
     "output_type": "stream",
     "text": [
      "Test loss: 0.35064 | Test acc: 87.06%\n",
      "\n",
      "Epoch: 2\n",
      "\n",
      "Train loss: 0.32150 | Train acc: 88.35%\n"
     ]
    },
    {
     "name": "stderr",
     "output_type": "stream",
     "text": [
      " 60%|██████    | 3/5 [02:03<01:22, 41.25s/it]"
     ]
    },
    {
     "name": "stdout",
     "output_type": "stream",
     "text": [
      "Test loss: 0.32270 | Test acc: 88.39%\n",
      "\n",
      "Epoch: 3\n",
      "\n",
      "Train loss: 0.29989 | Train acc: 89.14%\n"
     ]
    },
    {
     "name": "stderr",
     "output_type": "stream",
     "text": [
      " 80%|████████  | 4/5 [02:45<00:41, 41.23s/it]"
     ]
    },
    {
     "name": "stdout",
     "output_type": "stream",
     "text": [
      "Test loss: 0.34156 | Test acc: 87.35%\n",
      "\n",
      "Epoch: 4\n",
      "\n",
      "Train loss: 0.28532 | Train acc: 89.60%\n"
     ]
    },
    {
     "name": "stderr",
     "output_type": "stream",
     "text": [
      "100%|██████████| 5/5 [03:26<00:00, 41.37s/it]"
     ]
    },
    {
     "name": "stdout",
     "output_type": "stream",
     "text": [
      "Test loss: 0.30068 | Test acc: 89.07%\n",
      "\n",
      "Train time on cpu: 207.402 seconds\n"
     ]
    },
    {
     "name": "stderr",
     "output_type": "stream",
     "text": [
      "\n"
     ]
    }
   ],
   "source": [
    "# Train and test the model\n",
    "\n",
    "torch.manual_seed(42)\n",
    "start_time= timer()\n",
    "\n",
    "epochs = 5\n",
    "for epoch in tqdm(range(epochs)):\n",
    "    print(f\"Epoch: {epoch}\\n\")\n",
    "    train_step(model=model1,\n",
    "             data_loader=train_dataloader,\n",
    "             loss_fn=loss_fn,\n",
    "             optimizer=optimizer,\n",
    "             accuracy_fn=accuracy_fn,\n",
    "             device=device)\n",
    "    test_step(model=model1,\n",
    "            data_loader=test_dataloader,       # was better to use an evaluation dataset here\n",
    "            loss_fn=loss_fn,\n",
    "            accuracy_fn=accuracy_fn,\n",
    "            device=device)\n",
    "\n",
    "end_time = timer()\n",
    "print_train_time(start=start_time, end=end_time,\n",
    "                 device=str(next(model1.parameters()).device))"
   ]
  },
  {
   "cell_type": "code",
   "execution_count": 46,
   "id": "e5f0c84b",
   "metadata": {},
   "outputs": [],
   "source": [
    "# model evaluation\n",
    "\n",
    "torch.manual_seed(42)\n",
    "def eval_model(model: torch.nn.Module,\n",
    "               data_loader: torch.utils.data.DataLoader,\n",
    "               loss_fn: torch.nn.Module, \n",
    "               accuracy_fn,\n",
    "               device=device):\n",
    "    loss, acc = 0, 0\n",
    "    model.eval()\n",
    "    with torch.inference_mode():\n",
    "        for X, y in tqdm(data_loader):\n",
    "            X, y = X.to(device), y.to(device)\n",
    "            # Make predictions\n",
    "            y_pred = model(X)\n",
    "\n",
    "            # Accumulate the loss and acc values per batch\n",
    "            loss += loss_fn(y_pred, y)\n",
    "            acc += accuracy_fn(y_true=y,\n",
    "                             y_pred=torch.softmax(y_pred.squeeze(), dim=1).argmax(dim=1))  # go from logits -> prediction labels \n",
    "\n",
    "        # Scale loss and acc to find the average loss/acc per batch\n",
    "        loss /= len(data_loader)\n",
    "        acc /= len(data_loader)\n",
    "    \n",
    "    return {\"model_name\": model.__class__.__name__, # only works when model was created with a class\n",
    "          \"model_loss\": loss.item(),\n",
    "          \"model_acc\": acc}"
   ]
  },
  {
   "cell_type": "code",
   "execution_count": 47,
   "id": "e4425008",
   "metadata": {},
   "outputs": [
    {
     "name": "stderr",
     "output_type": "stream",
     "text": [
      "100%|██████████| 313/313 [00:03<00:00, 100.56it/s]\n"
     ]
    },
    {
     "data": {
      "text/plain": [
       "{'model_name': 'cnnmodel1',\n",
       " 'model_loss': 0.30067721009254456,\n",
       " 'model_acc': 89.06749201277955}"
      ]
     },
     "execution_count": 47,
     "metadata": {},
     "output_type": "execute_result"
    }
   ],
   "source": [
    "# model1 results\n",
    "\n",
    "model1_results = eval_model(\n",
    "     model=model1,\n",
    "     data_loader=test_dataloader,\n",
    "     loss_fn=loss_fn,\n",
    "     accuracy_fn=accuracy_fn,\n",
    "     device=device\n",
    ")\n",
    "\n",
    "model1_results"
   ]
  },
  {
   "cell_type": "code",
   "execution_count": 48,
   "id": "eb667ef9",
   "metadata": {},
   "outputs": [],
   "source": [
    "def make_predictions(model: torch.nn.Module,\n",
    "                     data: list,\n",
    "                     device: torch.device = device):\n",
    "    pred_probs = []\n",
    "    model.to(device)\n",
    "    model.eval()\n",
    "    with torch.inference_mode():\n",
    "        for sample in data:\n",
    "            # Prepare the sample (add a batch dimension and pass to target device)\n",
    "            sample = torch.unsqueeze(sample, dim=0).to(device)\n",
    "\n",
    "            # Forward pass (model outputs raw logits)\n",
    "            pred_logit = model(sample)              #the number of logits=the number of classes for each image\n",
    "            #print(pred_logit)\n",
    "\n",
    "            # Get prediction probability (logit -> prediction probability)\n",
    "            pred_prob = torch.softmax(pred_logit.squeeze(), dim=0)     #squeeze to remove one dim of tensor of logits\n",
    "\n",
    "            pred_probs.append(pred_prob)\n",
    "            \n",
    "\n",
    "    # turn list into a tensor\n",
    "    return torch.stack(pred_probs)"
   ]
  },
  {
   "cell_type": "code",
   "execution_count": 58,
   "id": "cdf30e12",
   "metadata": {},
   "outputs": [
    {
     "data": {
      "text/plain": [
       "torch.Size([1, 28, 28])"
      ]
     },
     "execution_count": 58,
     "metadata": {},
     "output_type": "execute_result"
    }
   ],
   "source": [
    "# a sample of test data \n",
    "\n",
    "# random.seed(42)\n",
    "test_samples = [] \n",
    "test_labels = []\n",
    "for sample, label in random.sample(list(test_data), k=6):   # test_data is not a dataloader\n",
    "    test_samples.append(sample)\n",
    "    test_labels.append(label)\n",
    "\n",
    "#the first sample shape\n",
    "test_samples[0].shape"
   ]
  },
  {
   "cell_type": "code",
   "execution_count": 59,
   "id": "81fa9fa1",
   "metadata": {},
   "outputs": [
    {
     "data": {
      "text/plain": [
       "6"
      ]
     },
     "execution_count": 59,
     "metadata": {},
     "output_type": "execute_result"
    }
   ],
   "source": [
    "len(test_samples)"
   ]
  },
  {
   "cell_type": "code",
   "execution_count": 60,
   "id": "cc717f38",
   "metadata": {},
   "outputs": [
    {
     "data": {
      "text/plain": [
       "Text(0.5, 1.0, 'Bag')"
      ]
     },
     "execution_count": 60,
     "metadata": {},
     "output_type": "execute_result"
    },
    {
     "data": {
      "image/png": "[encoded data removed]",
      "text/plain": [
       "<Figure size 640x480 with 1 Axes>"
      ]
     },
     "metadata": {},
     "output_type": "display_data"
    }
   ],
   "source": [
    "plt.imshow(test_samples[0].squeeze(), cmap=\"gray\")\n",
    "plt.title(class_names[test_labels[0]])"
   ]
  },
  {
   "cell_type": "code",
   "execution_count": 61,
   "id": "f0c408ef",
   "metadata": {},
   "outputs": [
    {
     "name": "stdout",
     "output_type": "stream",
     "text": [
      "torch.Size([6, 10])\n"
     ]
    },
    {
     "data": {
      "text/plain": [
       "tensor([[2.3380e-05, 2.0001e-07, 1.7940e-04, 2.6416e-04, 1.0099e-04, 1.2836e-03,\n",
       "         1.3000e-04, 5.8956e-05, 9.9796e-01, 1.3332e-06],\n",
       "        [4.8978e-01, 2.7014e-03, 6.2108e-04, 2.6495e-03, 6.8615e-04, 1.3415e-05,\n",
       "         5.0347e-01, 3.4968e-05, 4.7356e-05, 2.5524e-06],\n",
       "        [4.9635e-08, 4.4419e-10, 2.5278e-09, 2.2557e-10, 1.9544e-10, 2.2793e-04,\n",
       "         3.3982e-08, 1.9364e-05, 2.1048e-07, 9.9975e-01],\n",
       "        [1.1879e-05, 9.9993e-01, 3.6336e-07, 1.7395e-05, 2.1685e-05, 6.1368e-07,\n",
       "         1.1734e-05, 2.7250e-08, 2.0276e-06, 4.4890e-09],\n",
       "        [8.6840e-01, 1.4251e-06, 1.8385e-04, 4.6535e-03, 3.6208e-06, 2.8684e-07,\n",
       "         1.2657e-01, 1.2037e-07, 1.8801e-04, 9.7043e-09],\n",
       "        [9.6711e-01, 1.5494e-07, 8.8395e-06, 1.5791e-04, 2.9213e-06, 3.7077e-08,\n",
       "         3.2715e-02, 2.2294e-08, 1.1338e-06, 6.6869e-07]])"
      ]
     },
     "execution_count": 61,
     "metadata": {},
     "output_type": "execute_result"
    }
   ],
   "source": [
    "# Make predictions\n",
    "\n",
    "pred_probs = make_predictions(model=model1,\n",
    "                              data=test_samples)\n",
    "#prediction probabilities \n",
    "print(pred_probs.shape)\n",
    "pred_probs[:]"
   ]
  },
  {
   "cell_type": "code",
   "execution_count": 62,
   "id": "8a63a466",
   "metadata": {},
   "outputs": [
    {
     "data": {
      "text/plain": [
       "tensor([8, 6, 9, 1, 0, 0])"
      ]
     },
     "execution_count": 62,
     "metadata": {},
     "output_type": "execute_result"
    }
   ],
   "source": [
    "# Convert prediction probabilities to labels\n",
    "pred_classes = pred_probs.argmax(dim=1)\n",
    "pred_classes"
   ]
  },
  {
   "cell_type": "code",
   "execution_count": 63,
   "id": "0528e828",
   "metadata": {},
   "outputs": [
    {
     "data": {
      "text/plain": [
       "[8, 6, 9, 1, 0, 6]"
      ]
     },
     "execution_count": 63,
     "metadata": {},
     "output_type": "execute_result"
    }
   ],
   "source": [
    "test_labels"
   ]
  },
  {
   "cell_type": "code",
   "execution_count": 64,
   "id": "58d4cf36",
   "metadata": {
    "scrolled": true
   },
   "outputs": [
    {
     "data": {
      "image/png": "[encoded data removed]",
      "text/plain": [
       "<Figure size 800x800 with 6 Axes>"
      ]
     },
     "metadata": {},
     "output_type": "display_data"
    }
   ],
   "source": [
    "# plot predictions\n",
    "\n",
    "plt.figure(figsize=(8,8))\n",
    "nrows = 2\n",
    "ncols = 3\n",
    "for i, sample in enumerate(test_samples):\n",
    "    plt.subplot(nrows, ncols, i+1)\n",
    "    plt.imshow(sample.squeeze(), cmap=\"gray\")\n",
    "    pred_label = class_names[pred_classes[i]]\n",
    "    truth_label = class_names[test_labels[i]]\n",
    "\n",
    "    title_text = f\"Pred: {pred_label} | Truth: {truth_label}\"\n",
    "\n",
    "    if pred_label == truth_label:\n",
    "        plt.title(title_text, fontsize=10, c=\"g\") # green text if prediction same as truth\n",
    "    else:\n",
    "        plt.title(title_text, fontsize=10, c=\"r\") \n",
    "\n",
    "    plt.axis(False)"
   ]
  },
  {
   "cell_type": "markdown",
   "id": "d1f0d598",
   "metadata": {},
   "source": [
    "A useful link : \n",
    "\n",
    "https://playground.tensorflow.org/#activation=tanh&batchSize=10&dataset=circle&regDataset=reg-plane&learningRate=0.03&regularizationRate=0&noise=0&networkShape=4,2&seed=0.26300&showTestData=false&discretize=false&percTrainData=50&x=true&y=true&xTimesY=false&xSquared=false&ySquared=false&cosX=false&sinX=false&cosY=false&sinY=false&collectStats=false&problem=classification&initZero=false&hideText=false"
   ]
  }
 ],
 "metadata": {
  "kernelspec": {
   "display_name": "Python 3 (ipykernel)",
   "language": "python",
   "name": "python3"
  },
  "language_info": {
   "codemirror_mode": {
    "name": "ipython",
    "version": 3
   },
   "file_extension": ".py",
   "mimetype": "text/x-python",
   "name": "python",
   "nbconvert_exporter": "python",
   "pygments_lexer": "ipython3",
   "version": "3.9.16"
  }
 },
 "nbformat": 4,
 "nbformat_minor": 5
}
